{
 "cells": [
  {
   "cell_type": "code",
   "execution_count": 1,
   "metadata": {},
   "outputs": [
    {
     "name": "stdout",
     "output_type": "stream",
     "text": [
      "image is left-right-reverse 0000680.jpg\n",
      "image is left-right-reverse 0001810.jpg\n",
      "image is left-right-reverse 0001812.jpg\n",
      "image is left-right-reverse 0001813.jpg\n",
      "image is left-right-reverse 0001814.jpg\n",
      "image is left-right-reverse 0001814.jpg\n",
      "image is left-right-reverse 0001815.jpg\n",
      "image is left-right-reverse 0001815.jpg\n",
      "image is left-right-reverse 0001820.jpg\n",
      "image is left-right-reverse 1001548.jpg\n",
      "image is left-right-reverse 1001549.jpg\n",
      "image is left-right-reverse 1001549.jpg\n",
      "image is left-right-reverse 1001550.jpg\n",
      "image is left-right-reverse 1001550.jpg\n",
      "image is left-right-reverse 1001551.jpg\n",
      "image is left-right-reverse 1002192.jpg\n",
      "image is left-right-reverse 1002193.jpg\n",
      "image is left-right-reverse 1004399.jpg\n",
      "image is left-right-reverse 1004886.jpg\n",
      "image is left-right-reverse 1007900.jpg\n",
      "image is left-right-reverse 1008633.jpg\n",
      "image is left-right-reverse 1008634.jpg\n",
      "image is left-right-reverse 1008635.jpg\n",
      "image is left-right-reverse 1010468.jpg\n",
      "image is left-right-reverse 1010477.jpg\n",
      "image is left-right-reverse 1016473.jpg\n",
      "image is left-right-reverse 1020225.jpg\n",
      "image is left-right-reverse 1020227.jpg\n",
      "image is left-right-reverse 1020639.jpg\n",
      "image is left-right-reverse 1020640.jpg\n",
      "image is left-right-reverse 1020645.jpg\n",
      "image is left-right-reverse 1024285.jpg\n",
      "image is left-right-reverse 1024286.jpg\n",
      "image is left-right-reverse 1024819.jpg\n",
      "image is left-right-reverse 1024820.jpg\n",
      "image is left-right-reverse 1026354.jpg\n",
      "image is left-right-reverse 1026443.jpg\n",
      "image is left-right-reverse 1026521.jpg\n",
      "image is left-right-reverse 1026521.jpg\n",
      "image is left-right-reverse 1026522.jpg\n",
      "image is left-right-reverse 1026522.jpg\n",
      "image is left-right-reverse 1028751.jpg\n",
      "image is left-right-reverse 1028751.jpg\n",
      "image is left-right-reverse 1032570.jpg\n",
      "image is left-right-reverse 1040370.jpg\n",
      "image is left-right-reverse 1040371.jpg\n",
      "image is left-right-reverse 1040545.jpg\n",
      "image is left-right-reverse 1041420.jpg\n",
      "image is left-right-reverse 1041422.jpg\n",
      "image is left-right-reverse 1041832.jpg\n",
      "image is left-right-reverse 1041833.jpg\n",
      "image is left-right-reverse 1041833.jpg\n",
      "image is left-right-reverse 1041836.jpg\n",
      "image is left-right-reverse 1043628.jpg\n",
      "image is left-right-reverse 1043860.jpg\n",
      "image is left-right-reverse 1044063.jpg\n",
      "image is left-right-reverse 1045039.jpg\n",
      "image is left-right-reverse 1045873.jpg\n",
      "image is left-right-reverse 1045984.jpg\n",
      "image is left-right-reverse 1047127.jpg\n",
      "image is left-right-reverse 1047127.jpg\n",
      "image is left-right-reverse 1047127.jpg\n",
      "image is left-right-reverse 1047128.jpg\n",
      "image is left-right-reverse 1047128.jpg\n",
      "image is left-right-reverse 1047129.jpg\n",
      "image is left-right-reverse 1047129.jpg\n",
      "image is left-right-reverse 1047368.jpg\n",
      "image is left-right-reverse 1047788.jpg\n",
      "image is left-right-reverse 2000544.jpg\n",
      "image is left-right-reverse 2001548.jpg\n",
      "image is left-right-reverse 2003062.jpg\n",
      "image is left-right-reverse 2005051.jpg\n",
      "image is left-right-reverse 2005052.jpg\n",
      "image is left-right-reverse 2005396.jpg\n",
      "image is left-right-reverse 2005397.jpg\n",
      "image is left-right-reverse 2007896.jpg\n",
      "image is left-right-reverse 2007897.jpg\n",
      "image is left-right-reverse 2009142.jpg\n",
      "image is left-right-reverse 2009280.jpg\n",
      "image is left-right-reverse 2009283.jpg\n",
      "image is left-right-reverse 2026365.jpg\n",
      "image is left-right-reverse 2026368.jpg\n",
      "image is left-right-reverse 2026368.jpg\n",
      "image is left-right-reverse 2040298.jpg\n",
      "image is left-right-reverse 2040299.jpg\n",
      "image is left-right-reverse 2041836.jpg\n",
      "image is left-right-reverse 2043710.jpg\n",
      "image is left-right-reverse 2043711.jpg\n",
      "image is left-right-reverse 2046592.jpg\n",
      "image is left-right-reverse 2047918.jpg\n",
      "image is left-right-reverse 3000195.jpg\n",
      "image is left-right-reverse 3000421.jpg\n",
      "image is left-right-reverse 3002142.jpg\n",
      "image is left-right-reverse 3002143.jpg\n",
      "image is left-right-reverse 3002366.jpg\n",
      "image is left-right-reverse 3004867.jpg\n",
      "image is left-right-reverse 3004868.jpg\n",
      "image is left-right-reverse 3004869.jpg\n",
      "image is left-right-reverse 3004870.jpg\n",
      "image is left-right-reverse 3005302.jpg\n",
      "image is left-right-reverse 3005775.jpg\n",
      "image is left-right-reverse 3007926.jpg\n",
      "image is left-right-reverse 3023874.jpg\n",
      "image is left-right-reverse 3023944.jpg\n",
      "image is left-right-reverse 3023945.jpg\n",
      "image is left-right-reverse 3023946.jpg\n",
      "image is left-right-reverse 3023946.jpg\n",
      "image is left-right-reverse 3025444.jpg\n",
      "image is left-right-reverse 3025445.jpg\n",
      "image is left-right-reverse 3030201.jpg\n",
      "image is left-right-reverse 3031445.jpg\n",
      "image is dis_taito too big 3032499.jpg\n",
      "image is left-right-reverse 3032766.jpg\n",
      "image is left-right-reverse 3033937.jpg\n",
      "image is left-right-reverse 3041093.jpg\n",
      "image is left-right-reverse 3041242.jpg\n",
      "image is left-right-reverse 3041243.jpg\n",
      "image is left-right-reverse 3041577.jpg\n",
      "image is left-right-reverse 3041578.jpg\n",
      "image is left-right-reverse 3041607.jpg\n",
      "image is left-right-reverse 3043814.jpg\n",
      "image is left-right-reverse 3044998.jpg\n",
      "image is left-right-reverse 3045068.jpg\n",
      "image is left-right-reverse 3046160.jpg\n",
      "image is left-right-reverse 3046163.jpg\n",
      "image is left-right-reverse 3047382.jpg\n",
      "image is left-right-reverse 1009945.jpg\n",
      "image is left-right-reverse 1032635.jpg\n",
      "image is left-right-reverse 1041036.jpg\n",
      "image is left-right-reverse 1041037.jpg\n",
      "image is left-right-reverse 1041042.jpg\n",
      "image is left-right-reverse 2002795.jpg\n",
      "image is left-right-reverse 2005208.jpg\n",
      "image is left-right-reverse 2041041.jpg\n",
      "image is left-right-reverse 3000987.jpg\n",
      "image is left-right-reverse 3017802.jpg\n",
      "image is left-right-reverse 3017806.jpg\n",
      "image is left-right-reverse 3022132.jpg\n"
     ]
    }
   ],
   "source": [
    "import analyse_anno\n",
    "import numpy as np\n",
    "\n",
    "lines = analyse_anno.readLines()\n",
    "width_pair, height_pair, distance, board, distance_ratio,distance_no_abs = analyse_anno.analyse_key_data(lines)\n"
   ]
  },
  {
   "cell_type": "code",
   "execution_count": 6,
   "metadata": {},
   "outputs": [
    {
     "data": {
      "text/plain": [
       "<matplotlib.collections.PathCollection at 0x7efcb5bd07d0>"
      ]
     },
     "execution_count": 6,
     "metadata": {},
     "output_type": "execute_result"
    },
    {
     "data": {
      "image/png": "[encoded data removed]",
      "text/plain": [
       "<Figure size 432x288 with 1 Axes>"
      ]
     },
     "metadata": {},
     "output_type": "display_data"
    }
   ],
   "source": [
    "import matplotlib.pyplot as plt\n",
    "plt.scatter(width_pair[:], height_pair[:], 5,color='red')"
   ]
  },
  {
   "cell_type": "code",
   "execution_count": 7,
   "metadata": {},
   "outputs": [
    {
     "name": "stdout",
     "output_type": "stream",
     "text": [
      "0.128698023177\n",
      "2.64404797601\n",
      "reverse\n",
      "0.378207963347\n",
      "7.77012711864\n"
     ]
    },
    {
     "data": {
      "image/png": "[encoded data removed]",
      "text/plain": [
       "<Figure size 432x288 with 1 Axes>"
      ]
     },
     "metadata": {},
     "output_type": "display_data"
    }
   ],
   "source": [
    "import matplotlib.pyplot as plt\n",
    "import numpy as np\n",
    "mul = np.array(width_pair)*np.array(height_pair)\n",
    "mul_reverse = 1/mul\n",
    "plt.scatter(mul, [0 for x in distance_ratio], 5,color='red')\n",
    "print(min(mul))\n",
    "print(max(mul))\n",
    "print(\"reverse\")\n",
    "print(min(mul_reverse))\n",
    "print(max(mul_reverse))"
   ]
  },
  {
   "cell_type": "code",
   "execution_count": 4,
   "metadata": {},
   "outputs": [
    {
     "data": {
      "text/plain": [
       "<matplotlib.collections.PathCollection at 0x7efcb5c52f90>"
      ]
     },
     "execution_count": 4,
     "metadata": {},
     "output_type": "execute_result"
    },
    {
     "data": {
      "image/png": "[encoded data removed]",
      "text/plain": [
       "<Figure size 432x288 with 1 Axes>"
      ]
     },
     "metadata": {},
     "output_type": "display_data"
    }
   ],
   "source": [
    "plt.scatter(board , distance, 1,'blue')\n"
   ]
  },
  {
   "cell_type": "code",
   "execution_count": null,
   "metadata": {},
   "outputs": [],
   "source": []
  },
  {
   "cell_type": "code",
   "execution_count": 7,
   "metadata": {},
   "outputs": [
    {
     "name": "stdout",
     "output_type": "stream",
     "text": [
      "7.27027027027\n",
      "-1.09615384615\n",
      "-3.5510637483\n"
     ]
    },
    {
     "data": {
      "image/png": "[encoded data removed]",
      "text/plain": [
       "<Figure size 432x288 with 1 Axes>"
      ]
     },
     "metadata": {},
     "output_type": "display_data"
    }
   ],
   "source": [
    "import matplotlib.pyplot as plt\n",
    "import numpy as np\n",
    "#plt.scatter(distance_ratio, [0 for x in distance_ratio],1,'green')\n",
    "plt.scatter(distance_no_abs, [0 for x in distance_no_abs],1,'green')\n",
    "print(max(distance_no_abs))\n",
    "#print(sorted(-np.array(distance_ratio))[1])\n",
    "print(sorted(np.array(distance_no_abs))[1])\n",
    "print(sorted(-np.array(distance_no_abs))[1])"
   ]
  },
  {
   "cell_type": "code",
   "execution_count": 1,
   "metadata": {},
   "outputs": [
    {
     "ename": "NameError",
     "evalue": "name 'k' is not defined",
     "output_type": "error",
     "traceback": [
      "\u001b[0;31m---------------------------------------------------------------------------\u001b[0m",
      "\u001b[0;31mNameError\u001b[0m                                 Traceback (most recent call last)",
      "\u001b[0;32m<ipython-input-1-8b05a8b26eed>\u001b[0m in \u001b[0;36m<module>\u001b[0;34m()\u001b[0m\n\u001b[1;32m      1\u001b[0m \u001b[0;32mimport\u001b[0m \u001b[0mmath\u001b[0m\u001b[0;34m\u001b[0m\u001b[0m\n\u001b[1;32m      2\u001b[0m \u001b[0mfp\u001b[0m \u001b[0;34m=\u001b[0m \u001b[0mopen\u001b[0m\u001b[0;34m(\u001b[0m\u001b[0;34m\"k_value\"\u001b[0m\u001b[0;34m,\u001b[0m\u001b[0;34m\"w+\"\u001b[0m\u001b[0;34m)\u001b[0m\u001b[0;34m\u001b[0m\u001b[0m\n\u001b[0;32m----> 3\u001b[0;31m \u001b[0mk_degree\u001b[0m \u001b[0;34m=\u001b[0m \u001b[0;34m[\u001b[0m\u001b[0mmath\u001b[0m\u001b[0;34m.\u001b[0m\u001b[0matan\u001b[0m\u001b[0;34m(\u001b[0m\u001b[0mx\u001b[0m\u001b[0;34m)\u001b[0m\u001b[0;34m*\u001b[0m\u001b[0;36m180\u001b[0m\u001b[0;34m/\u001b[0m\u001b[0mmath\u001b[0m\u001b[0;34m.\u001b[0m\u001b[0mpi\u001b[0m \u001b[0;32mfor\u001b[0m \u001b[0mx\u001b[0m \u001b[0;32min\u001b[0m \u001b[0mk\u001b[0m\u001b[0;34m]\u001b[0m\u001b[0;34m\u001b[0m\u001b[0m\n\u001b[0m\u001b[1;32m      4\u001b[0m \u001b[0;34m\u001b[0m\u001b[0m\n\u001b[1;32m      5\u001b[0m \u001b[0;32mfor\u001b[0m \u001b[0mitem\u001b[0m \u001b[0;32min\u001b[0m \u001b[0mk_degree\u001b[0m\u001b[0;34m:\u001b[0m\u001b[0;34m\u001b[0m\u001b[0m\n",
      "\u001b[0;31mNameError\u001b[0m: name 'k' is not defined"
     ]
    }
   ],
   "source": [
    "import math\n",
    "fp = open(\"k_value\",\"w+\")\n",
    "k_degree = [math.atan(x)*180/math.pi for x in k]\n",
    "\n",
    "for item in k_degree:\n",
    "    fp.write(str(item)+\"\\n\")\n",
    "    #print(item)\n",
    "fp.close()"
   ]
  },
  {
   "cell_type": "code",
   "execution_count": 9,
   "metadata": {},
   "outputs": [
    {
     "data": {
      "image/png": "[encoded data removed]",
      "text/plain": [
       "<Figure size 432x288 with 1 Axes>"
      ]
     },
     "metadata": {},
     "output_type": "display_data"
    },
    {
     "name": "stdout",
     "output_type": "stream",
     "text": [
      "[[ -7.18852223e+01   0.00000000e+00]\n",
      " [  4.62834302e+06   0.00000000e+00]]\n"
     ]
    }
   ],
   "source": [
    "#plt.scatter(k[:], [0 for x in k],2,\"green\")\n",
    "from sklearn.cluster import KMeans\n",
    "import matplotlib.pyplot as plt\n",
    "estimator = KMeans(n_clusters=2)#构造聚类器\n",
    "k_data = [[x,0] for x in k]\n",
    "estimator.fit(k_data)#聚类\n",
    "label_pred = estimator.labels_ #获取聚类标签\n",
    "centroids = estimator.cluster_centers_ #获取聚类中心\n",
    "plt.scatter(k, [0 for x in k], c=label_pred)\n",
    "#print pred\n",
    "plt.show()\n",
    "print centroids"
   ]
  },
  {
   "cell_type": "code",
   "execution_count": 4,
   "metadata": {},
   "outputs": [
    {
     "name": "stdout",
     "output_type": "stream",
     "text": [
      "('max_var', '9543.62854914')\n",
      "('max_mean', '93.3272730257')\n"
     ]
    }
   ],
   "source": [
    "import extract_key_from_gt\n",
    "means, var = extract_key_from_gt.keywords_line()"
   ]
  },
  {
   "cell_type": "code",
   "execution_count": 13,
   "metadata": {},
   "outputs": [
    {
     "name": "stdout",
     "output_type": "stream",
     "text": [
      "0.161631570093\n",
      "0.328136533811\n"
     ]
    },
    {
     "data": {
      "image/png": "[encoded data removed]",
      "text/plain": [
       "<Figure size 432x288 with 1 Axes>"
      ]
     },
     "metadata": {},
     "output_type": "display_data"
    }
   ],
   "source": [
    "import matplotlib.pyplot as plt\n",
    "import numpy as np\n",
    "#plt.scatter(distance_ratio, [0 for x in distance_ratio],1,'green')\n",
    "new_means = [x for x in means if x < 20]\n",
    "plt.scatter(new_means, [0 for x in new_means],1,'green')\n",
    "#print([str(x) for x in means if x > 20])\n",
    "print(str(np.mean(new_means)))\n",
    "print(str(np.mean(means)))"
   ]
  },
  {
   "cell_type": "code",
   "execution_count": 6,
   "metadata": {},
   "outputs": [
    {
     "data": {
      "text/plain": [
       "<matplotlib.collections.PathCollection at 0x7f3c8e5de390>"
      ]
     },
     "execution_count": 6,
     "metadata": {},
     "output_type": "execute_result"
    },
    {
     "data": {
      "image/png": "[encoded data removed]",
      "text/plain": [
       "<Figure size 432x288 with 1 Axes>"
      ]
     },
     "metadata": {},
     "output_type": "display_data"
    }
   ],
   "source": [
    "plt.scatter(var, [0 for x in var],1,'green')"
   ]
  },
  {
   "cell_type": "code",
   "execution_count": null,
   "metadata": {},
   "outputs": [],
   "source": []
  }
 ],
 "metadata": {
  "kernelspec": {
   "display_name": "Python 2",
   "language": "python",
   "name": "python2"
  },
  "language_info": {
   "codemirror_mode": {
    "name": "ipython",
    "version": 2
   },
   "file_extension": ".py",
   "mimetype": "text/x-python",
   "name": "python",
   "nbconvert_exporter": "python",
   "pygments_lexer": "ipython2",
   "version": "2.7.12"
  }
 },
 "nbformat": 4,
 "nbformat_minor": 2
}
